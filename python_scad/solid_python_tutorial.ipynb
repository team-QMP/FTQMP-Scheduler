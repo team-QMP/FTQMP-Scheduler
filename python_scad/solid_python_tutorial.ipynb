{
 "cells": [
  {
   "cell_type": "code",
   "execution_count": null,
   "metadata": {},
   "outputs": [],
   "source": [
    "# requirements\n",
    "# ! pip install solidpython, viewscad"
   ]
  },
  {
   "cell_type": "code",
   "execution_count": null,
   "metadata": {},
   "outputs": [
    {
     "name": "stdout",
     "output_type": "stream",
     "text": [
      "cubes [<solid.objects.translate object at 0x14f169090>, <solid.objects.translate object at 0x14f15a310>, <solid.objects.translate object at 0x14f159110>, <solid.objects.translate object at 0x14f149cd0>, <solid.objects.translate object at 0x14f149c10>, <solid.objects.translate object at 0x14f14bcd0>, <solid.objects.translate object at 0x14f100950>, <solid.objects.translate object at 0x14f129f10>, <solid.objects.translate object at 0x14f1297d0>, <solid.objects.translate object at 0x14f11de90>, <solid.objects.translate object at 0x14f119950>, <solid.objects.translate object at 0x14f119890>, <solid.objects.translate object at 0x14f13a690>, <solid.objects.translate object at 0x14f139d90>, <solid.objects.translate object at 0x14f139f50>, <solid.objects.translate object at 0x14f0f4b50>, <solid.objects.translate object at 0x14f12e1d0>, <solid.objects.translate object at 0x14f108f90>, <solid.objects.translate object at 0x14f1947d0>, <solid.objects.translate object at 0x14f1d9ad0>, <solid.objects.translate object at 0x14f1dbfd0>, <solid.objects.translate object at 0x14f1dbd50>, <solid.objects.translate object at 0x14f1dba50>, <solid.objects.translate object at 0x14f1db750>, <solid.objects.translate object at 0x14f1db450>, <solid.objects.translate object at 0x14f1db150>, <solid.objects.translate object at 0x14f1dad50>, <solid.objects.translate object at 0x14f1daa50>, <solid.objects.translate object at 0x14f1da750>, <solid.objects.translate object at 0x14f1da350>, <solid.objects.translate object at 0x14f1da050>, <solid.objects.translate object at 0x14f1d9d50>, <solid.objects.translate object at 0x14f1dbe10>, <solid.objects.translate object at 0x14f1dbb10>, <solid.objects.translate object at 0x14f1db810>, <solid.objects.translate object at 0x14f1db510>, <solid.objects.translate object at 0x14f1db210>, <solid.objects.translate object at 0x14f1daf10>, <solid.objects.translate object at 0x14f1dab10>, <solid.objects.translate object at 0x14f1da810>, <solid.objects.translate object at 0x14f1da310>, <solid.objects.translate object at 0x14f1d9e90>, <solid.objects.translate object at 0x106344d10>, <solid.objects.translate object at 0x14f13d3d0>, <solid.objects.translate object at 0x14f1cc390>, <solid.objects.translate object at 0x14f1ce950>, <solid.objects.translate object at 0x14f1ce7d0>, <solid.objects.translate object at 0x14f1ce1d0>, <solid.objects.translate object at 0x14f1cdf90>, <solid.objects.translate object at 0x14f1cdd10>, <solid.objects.translate object at 0x14f1cded0>, <solid.objects.translate object at 0x14f1cdc10>, <solid.objects.translate object at 0x14f1cd510>, <solid.objects.translate object at 0x14f1cd650>, <solid.objects.translate object at 0x14f1cd390>, <solid.objects.translate object at 0x14f1ccc90>, <solid.objects.translate object at 0x14f1ccdd0>, <solid.objects.translate object at 0x14f1cca90>, <solid.objects.translate object at 0x14f1cc350>, <solid.objects.translate object at 0x14f1cbfd0>, <solid.objects.translate object at 0x14f1cbb50>, <solid.objects.translate object at 0x14f1cb6d0>, <solid.objects.translate object at 0x14f1cb250>, <solid.objects.translate object at 0x14f1cacd0>, <solid.objects.translate object at 0x14f1ca7d0>, <solid.objects.translate object at 0x14f1ca2d0>, <solid.objects.translate object at 0x14f1cbf90>, <solid.objects.translate object at 0x14f1cbb10>, <solid.objects.translate object at 0x14f1cb690>, <solid.objects.translate object at 0x14f1cb210>, <solid.objects.translate object at 0x14f1cac90>, <solid.objects.translate object at 0x14f1ca790>, <solid.objects.translate object at 0x14f1ca290>, <solid.objects.translate object at 0x14f1de8d0>, <solid.objects.translate object at 0x14f1de810>, <solid.objects.translate object at 0x14f1de750>, <solid.objects.translate object at 0x14f1de550>, <solid.objects.translate object at 0x14f1ddf50>, <solid.objects.translate object at 0x14f1ddd10>]\n"
     ]
    }
   ],
   "source": [
    "import viewscad\n",
    "from qiskit.circuit import QuantumCircuit\n",
    "from solid import scad_render\n",
    "from solidpolycubes import *\n",
    "from convert import qc_to_polycube\n",
    "\n",
    "# make quantum circuit \n",
    "qc = QuantumCircuit(8)\n",
    "qc.h(0)\n",
    "qc.cx(0, 1)\n",
    "qc.cx(0, 2)\n",
    "qc.cx(2, 4)\n",
    "qc.cx(4, 5)\n",
    "qc.cx(5, 6)\n",
    "qc.cx(6, 7)\n",
    "qc.cx(1, 6)\n",
    "\n",
    "polycube = qc_to_polycube(qc)\n",
    "polycube_model = create_polycube(polycube)\n"
   ]
  },
  {
   "cell_type": "code",
   "execution_count": 4,
   "metadata": {},
   "outputs": [
    {
     "name": "stderr",
     "output_type": "stream",
     "text": [
      "EXPORT-WARNING: Exported object may not be a valid 2-manifold and may need repair\n",
      "Geometries in cache: 80\n",
      "Geometry cache size in bytes: 71680\n",
      "CGAL Polyhedrons in cache: 1\n",
      "CGAL cache size in bytes: 220048\n",
      "Total rendering time: 0:00:01.801\n",
      "Top level object is a 3D object (Nef polyhedron):\n",
      "   Simple:     no\n",
      "   Vertices:      121\n",
      "   Halfedges:     396\n",
      "   Edges:         198\n",
      "   Halffacets:    144\n",
      "   Facets:         72\n",
      "   Volumes:         2\n",
      "WARNING: Object may not be a valid 2-manifold and may need repair!\n"
     ]
    },
    {
     "data": {
      "application/vnd.jupyter.widget-view+json": {
       "model_id": "c0ada55645554c58ba330cbfc3f7ed6c",
       "version_major": 2,
       "version_minor": 0
      },
      "text/plain": [
       "VBox(children=(HTML(value=''), Renderer(background='#cccc88', background_opacity=0.0, camera=PerspectiveCamera…"
      ]
     },
     "metadata": {},
     "output_type": "display_data"
    }
   ],
   "source": [
    "# you can visualize the model using viewscad.\n",
    "# note that since this rendering is using STL file, it does not support the color.\n",
    "r = viewscad.Renderer()\n",
    "r.render(polycube_model)"
   ]
  },
  {
   "cell_type": "code",
   "execution_count": 5,
   "metadata": {},
   "outputs": [],
   "source": [
    "# you can also save the model as openscad file. It supports color.\n",
    "with open(\"polycube.scad\", \"w\") as f:\n",
    "    f.write(scad_render(polycube_model))"
   ]
  },
  {
   "cell_type": "code",
   "execution_count": 8,
   "metadata": {},
   "outputs": [],
   "source": [
    "# If you have multiple polycubes, you can run create_polycubes function.\n",
    "qc2 = QuantumCircuit(10)\n",
    "qc2.h(0)\n",
    "qc2.cx(0, 1)\n",
    "qc2.cx(3, 2)\n",
    "qc2.cx(0, 9)\n",
    "qc2.cx(3, 1)\n",
    "polycube2 = qc_to_polycube(qc2)\n",
    "coords_list = [polycube, polycube2]\n",
    "colors = [\"red\", \"blue\"]\n",
    "\n",
    "polycubes = create_polycubes(coords_list, colors, unit_size=1)"
   ]
  },
  {
   "cell_type": "code",
   "execution_count": 9,
   "metadata": {},
   "outputs": [
    {
     "name": "stderr",
     "output_type": "stream",
     "text": [
      "EXPORT-WARNING: Exported object may not be a valid 2-manifold and may need repair\n",
      "Geometries in cache: 207\n",
      "Geometry cache size in bytes: 185472\n",
      "CGAL Polyhedrons in cache: 3\n",
      "CGAL cache size in bytes: 686224\n",
      "Total rendering time: 0:00:02.804\n",
      "Top level object is a 3D object (Nef polyhedron):\n",
      "   Simple:     no\n",
      "   Vertices:      159\n",
      "   Halfedges:     520\n",
      "   Edges:         260\n",
      "   Halffacets:    184\n",
      "   Facets:         92\n",
      "   Volumes:         3\n",
      "WARNING: Object may not be a valid 2-manifold and may need repair!\n"
     ]
    },
    {
     "data": {
      "application/vnd.jupyter.widget-view+json": {
       "model_id": "c234bc08b14d4b35b125237cdcf8b1cb",
       "version_major": 2,
       "version_minor": 0
      },
      "text/plain": [
       "VBox(children=(HTML(value=''), Renderer(background='#cccc88', background_opacity=0.0, camera=PerspectiveCamera…"
      ]
     },
     "metadata": {},
     "output_type": "display_data"
    }
   ],
   "source": [
    "r = viewscad.Renderer()\n",
    "r.render(polycubes)\n",
    "\n",
    "with open(\"polycubes.scad\", \"w\") as f:\n",
    "    f.write(scad_render(polycubes))"
   ]
  },
  {
   "cell_type": "code",
   "execution_count": null,
   "metadata": {},
   "outputs": [],
   "source": []
  }
 ],
 "metadata": {
  "kernelspec": {
   "display_name": "Python 3",
   "language": "python",
   "name": "python3"
  },
  "language_info": {
   "codemirror_mode": {
    "name": "ipython",
    "version": 3
   },
   "file_extension": ".py",
   "mimetype": "text/x-python",
   "name": "python",
   "nbconvert_exporter": "python",
   "pygments_lexer": "ipython3",
   "version": "3.9.5"
  }
 },
 "nbformat": 4,
 "nbformat_minor": 2
}
